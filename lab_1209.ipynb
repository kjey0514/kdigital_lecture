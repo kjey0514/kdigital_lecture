{
 "cells": [
  {
   "cell_type": "code",
   "execution_count": 1,
   "metadata": {},
   "outputs": [
    {
     "name": "stdout",
     "output_type": "stream",
     "text": [
      "이름을 입력하세요:홍길동\n",
      "나이를 입력하세요:27\n",
      "연락처를 입력하세요:010-3023-1223\n"
     ]
    },
    {
     "data": {
      "text/plain": [
       "'010-3023-1223'"
      ]
     },
     "execution_count": 1,
     "metadata": {},
     "output_type": "execute_result"
    }
   ],
   "source": [
    "name=input(\"이름을 입력하세요:\")\n",
    "age=input(\"나이를 입력하세요:\")\n",
    "contact=input(\"연락처를 입력하세요:\")\n",
    "name\n",
    "age\n",
    "contact"
   ]
  },
  {
   "cell_type": "code",
   "execution_count": 7,
   "metadata": {},
   "outputs": [
    {
     "ename": "NameError",
     "evalue": "name '이름' is not defined",
     "output_type": "error",
     "traceback": [
      "\u001b[1;31m---------------------------------------------------------------------------\u001b[0m",
      "\u001b[1;31mNameError\u001b[0m                                 Traceback (most recent call last)",
      "\u001b[1;32m<ipython-input-7-be117973766e>\u001b[0m in \u001b[0;36m<module>\u001b[1;34m\u001b[0m\n\u001b[1;32m----> 1\u001b[1;33m \u001b[0mscore\u001b[0m\u001b[1;33m=\u001b[0m\u001b[1;33m{\u001b[0m\u001b[0m이름\u001b[0m\u001b[1;33m:\u001b[0m\u001b[0mname\u001b[0m\u001b[1;33m,\u001b[0m\u001b[0m나이\u001b[0m\u001b[1;33m:\u001b[0m \u001b[0mage\u001b[0m\u001b[1;33m,\u001b[0m \u001b[0m연락처\u001b[0m\u001b[1;33m:\u001b[0m \u001b[0mcontact\u001b[0m\u001b[1;33m}\u001b[0m\u001b[1;33m\u001b[0m\u001b[1;33m\u001b[0m\u001b[0m\n\u001b[0m",
      "\u001b[1;31mNameError\u001b[0m: name '이름' is not defined"
     ]
    }
   ],
   "source": [
    "score={이름:name,나이: age, 연락처: contact}\n"
   ]
  },
  {
   "cell_type": "code",
   "execution_count": 6,
   "metadata": {},
   "outputs": [
    {
     "data": {
      "text/plain": [
       "'홍길동'"
      ]
     },
     "execution_count": 6,
     "metadata": {},
     "output_type": "execute_result"
    }
   ],
   "source": [
    "name\n",
    "\n"
   ]
  },
  {
   "cell_type": "code",
   "execution_count": 8,
   "metadata": {},
   "outputs": [
    {
     "name": "stdout",
     "output_type": "stream",
     "text": [
      "이름을 입력하세요:홍길동\n",
      "나이를 입력하세요:27\n",
      "연락처를 입력하세요:010-2121-2323\n"
     ]
    },
    {
     "data": {
      "text/plain": [
       "'010-2121-2323'"
      ]
     },
     "execution_count": 8,
     "metadata": {},
     "output_type": "execute_result"
    }
   ],
   "source": [
    "n=input(\"이름을 입력하세요:\")\n",
    "a=input(\"나이를 입력하세요:\")\n",
    "c=input(\"연락처를 입력하세요:\")\n",
    "n\n",
    "a\n",
    "c"
   ]
  },
  {
   "cell_type": "markdown",
   "metadata": {},
   "source": [
    "name=\"이름\""
   ]
  },
  {
   "cell_type": "markdown",
   "metadata": {},
   "source": [
    "name"
   ]
  },
  {
   "cell_type": "code",
   "execution_count": 9,
   "metadata": {},
   "outputs": [
    {
     "ename": "NameError",
     "evalue": "name '이름' is not defined",
     "output_type": "error",
     "traceback": [
      "\u001b[1;31m---------------------------------------------------------------------------\u001b[0m",
      "\u001b[1;31mNameError\u001b[0m                                 Traceback (most recent call last)",
      "\u001b[1;32m<ipython-input-9-8954a48eecbc>\u001b[0m in \u001b[0;36m<module>\u001b[1;34m\u001b[0m\n\u001b[1;32m----> 1\u001b[1;33m \u001b[0mname\u001b[0m \u001b[1;33m=\u001b[0m \u001b[0m이름\u001b[0m\u001b[1;33m\u001b[0m\u001b[1;33m\u001b[0m\u001b[0m\n\u001b[0m",
      "\u001b[1;31mNameError\u001b[0m: name '이름' is not defined"
     ]
    }
   ],
   "source": [
    "name = 이름"
   ]
  },
  {
   "cell_type": "code",
   "execution_count": 10,
   "metadata": {},
   "outputs": [
    {
     "name": "stdout",
     "output_type": "stream",
     "text": [
      "홍길동\n"
     ]
    }
   ],
   "source": [
    "print(name)"
   ]
  },
  {
   "cell_type": "code",
   "execution_count": 11,
   "metadata": {},
   "outputs": [],
   "source": [
    "name = str(\"이름\")"
   ]
  },
  {
   "cell_type": "code",
   "execution_count": 12,
   "metadata": {},
   "outputs": [
    {
     "data": {
      "text/plain": [
       "'이름'"
      ]
     },
     "execution_count": 12,
     "metadata": {},
     "output_type": "execute_result"
    }
   ],
   "source": [
    "name"
   ]
  },
  {
   "cell_type": "code",
   "execution_count": 13,
   "metadata": {},
   "outputs": [],
   "source": [
    "age= int(27)"
   ]
  },
  {
   "cell_type": "code",
   "execution_count": 14,
   "metadata": {},
   "outputs": [
    {
     "data": {
      "text/plain": [
       "27"
      ]
     },
     "execution_count": 14,
     "metadata": {},
     "output_type": "execute_result"
    }
   ],
   "source": [
    "age\n"
   ]
  },
  {
   "cell_type": "code",
   "execution_count": 15,
   "metadata": {},
   "outputs": [
    {
     "data": {
      "text/plain": [
       "'연락처'"
      ]
     },
     "execution_count": 15,
     "metadata": {},
     "output_type": "execute_result"
    }
   ],
   "source": [
    "contact = str(\"연락처\")\n",
    "contact"
   ]
  },
  {
   "cell_type": "code",
   "execution_count": 16,
   "metadata": {},
   "outputs": [],
   "source": [
    "score = {\"name\":\"n\",\"age\":\"a\",\"contact\":\"c\"}"
   ]
  },
  {
   "cell_type": "code",
   "execution_count": 17,
   "metadata": {},
   "outputs": [
    {
     "data": {
      "text/plain": [
       "{'name': 'n', 'age': 'a', 'contact': 'c'}"
      ]
     },
     "execution_count": 17,
     "metadata": {},
     "output_type": "execute_result"
    }
   ],
   "source": [
    "score"
   ]
  },
  {
   "cell_type": "code",
   "execution_count": 18,
   "metadata": {},
   "outputs": [],
   "source": [
    "score = {name:a,age:a,contact:c}"
   ]
  },
  {
   "cell_type": "code",
   "execution_count": 19,
   "metadata": {},
   "outputs": [
    {
     "data": {
      "text/plain": [
       "{'이름': '27', 27: '27', '연락처': '010-2121-2323'}"
      ]
     },
     "execution_count": 19,
     "metadata": {},
     "output_type": "execute_result"
    }
   ],
   "source": [
    "score"
   ]
  },
  {
   "cell_type": "code",
   "execution_count": 20,
   "metadata": {},
   "outputs": [
    {
     "name": "stdout",
     "output_type": "stream",
     "text": [
      "이름을 입력하세요:홍길동\n",
      "나이를 입력하세요:27\n",
      "연락처를 입력하세요:010-2323-1212\n"
     ]
    },
    {
     "data": {
      "text/plain": [
       "'010-2323-1212'"
      ]
     },
     "execution_count": 20,
     "metadata": {},
     "output_type": "execute_result"
    }
   ],
   "source": [
    "name = str(\"이름\")\n",
    "age= str(\"나이\")\n",
    "contact = str(\"연락처\")\n",
    "n=input(\"이름을 입력하세요:\")\n",
    "a=input(\"나이를 입력하세요:\")\n",
    "c=input(\"연락처를 입력하세요:\")\n",
    "n\n",
    "a\n",
    "c\n"
   ]
  },
  {
   "cell_type": "code",
   "execution_count": 21,
   "metadata": {},
   "outputs": [],
   "source": [
    "score = {name:a,age:a,contact:c}"
   ]
  },
  {
   "cell_type": "code",
   "execution_count": 22,
   "metadata": {},
   "outputs": [
    {
     "data": {
      "text/plain": [
       "{'이름': '27', '나이': '27', '연락처': '010-2323-1212'}"
      ]
     },
     "execution_count": 22,
     "metadata": {},
     "output_type": "execute_result"
    }
   ],
   "source": [
    "score"
   ]
  },
  {
   "cell_type": "code",
   "execution_count": 23,
   "metadata": {},
   "outputs": [
    {
     "name": "stdout",
     "output_type": "stream",
     "text": [
      "이름을 입력하세요:이몽룡\n",
      "나이를 입력하세요:30\n",
      "연락처를 입력하세요:010-0000-1111\n"
     ]
    },
    {
     "data": {
      "text/plain": [
       "'010-0000-1111'"
      ]
     },
     "execution_count": 23,
     "metadata": {},
     "output_type": "execute_result"
    }
   ],
   "source": [
    "n=input(\"이름을 입력하세요:\")\n",
    "a=input(\"나이를 입력하세요:\")\n",
    "c=input(\"연락처를 입력하세요:\")\n",
    "n\n",
    "a\n",
    "c"
   ]
  },
  {
   "cell_type": "code",
   "execution_count": 24,
   "metadata": {},
   "outputs": [],
   "source": [
    "score2 = {name:a,age:a,contact:c}"
   ]
  },
  {
   "cell_type": "code",
   "execution_count": 25,
   "metadata": {},
   "outputs": [
    {
     "data": {
      "text/plain": [
       "{'이름': '30', '나이': '30', '연락처': '010-0000-1111'}"
      ]
     },
     "execution_count": 25,
     "metadata": {},
     "output_type": "execute_result"
    }
   ],
   "source": [
    "score2"
   ]
  },
  {
   "cell_type": "code",
   "execution_count": 28,
   "metadata": {},
   "outputs": [
    {
     "data": {
      "text/plain": [
       "[{'이름': '27', '나이': '27', '연락처': '010-2323-1212'},\n",
       " {'이름': '30', '나이': '30', '연락처': '010-0000-1111'}]"
      ]
     },
     "execution_count": 28,
     "metadata": {},
     "output_type": "execute_result"
    }
   ],
   "source": [
    "x=[score,score2]\n",
    "x\n"
   ]
  },
  {
   "cell_type": "code",
   "execution_count": 29,
   "metadata": {},
   "outputs": [],
   "source": [
    "animal = {\"사자\",\"고양이\"}"
   ]
  },
  {
   "cell_type": "code",
   "execution_count": 30,
   "metadata": {},
   "outputs": [
    {
     "data": {
      "text/plain": [
       "{'고양이', '사자'}"
      ]
     },
     "execution_count": 30,
     "metadata": {},
     "output_type": "execute_result"
    }
   ],
   "source": [
    "animal"
   ]
  },
  {
   "cell_type": "code",
   "execution_count": 31,
   "metadata": {},
   "outputs": [],
   "source": [
    "a= {1,2,3,4}"
   ]
  },
  {
   "cell_type": "code",
   "execution_count": 32,
   "metadata": {},
   "outputs": [],
   "source": [
    "a.remove(1)"
   ]
  },
  {
   "cell_type": "code",
   "execution_count": 33,
   "metadata": {},
   "outputs": [
    {
     "data": {
      "text/plain": [
       "{2, 3, 4}"
      ]
     },
     "execution_count": 33,
     "metadata": {},
     "output_type": "execute_result"
    }
   ],
   "source": [
    "a"
   ]
  },
  {
   "cell_type": "code",
   "execution_count": 34,
   "metadata": {},
   "outputs": [
    {
     "name": "stdout",
     "output_type": "stream",
     "text": [
      "첫번째 점수를 입력하세요:120\n",
      "두번째 점수를 입력하세요:90\n",
      "세번째 점수를 입력하세요:80\n"
     ]
    },
    {
     "data": {
      "text/plain": [
       "'80'"
      ]
     },
     "execution_count": 34,
     "metadata": {},
     "output_type": "execute_result"
    }
   ],
   "source": [
    "a=input(\"첫번째 점수를 입력하세요:\")\n",
    "b=input(\"두번째 점수를 입력하세요:\")\n",
    "c=input(\"세번째 점수를 입력하세요:\")\n",
    "a\n",
    "b\n",
    "c"
   ]
  },
  {
   "cell_type": "code",
   "execution_count": 39,
   "metadata": {},
   "outputs": [
    {
     "data": {
      "text/plain": [
       "80"
      ]
     },
     "execution_count": 39,
     "metadata": {},
     "output_type": "execute_result"
    }
   ],
   "source": [
    "a=int(a)\n",
    "b=int(b)\n",
    "c=int(c)\n",
    "a\n",
    "b\n",
    "c\n"
   ]
  },
  {
   "cell_type": "code",
   "execution_count": 40,
   "metadata": {},
   "outputs": [],
   "source": [
    "score=[a,b,c]"
   ]
  },
  {
   "cell_type": "code",
   "execution_count": 41,
   "metadata": {},
   "outputs": [
    {
     "data": {
      "text/plain": [
       "[120, 90, 80]"
      ]
     },
     "execution_count": 41,
     "metadata": {},
     "output_type": "execute_result"
    }
   ],
   "source": [
    "score"
   ]
  },
  {
   "cell_type": "code",
   "execution_count": 42,
   "metadata": {},
   "outputs": [
    {
     "name": "stdout",
     "output_type": "stream",
     "text": [
      "잘못된 점수입니다.\n"
     ]
    }
   ],
   "source": [
    "if 0<score[0]<=100:\n",
    "    if 0<score[1]<=100:\n",
    "        if 0<score[2]<=100:\n",
    "            if score[0] >65:\n",
    "                if score[1] > 65:\n",
    "                    if score[2] >65:\n",
    "                        print(\"합겹\")\n",
    "                    else:\n",
    "                        print(\"불합격\")\n",
    "                else:\n",
    "                    print(\"불합격\")\n",
    "            else:\n",
    "                print(\"불합격\")\n",
    "        else:\n",
    "            print(\"잘못된 점수입니다.\")\n",
    "    else:\n",
    "        print(\"잘못된 점수입니다.\")\n",
    "else:\n",
    "    print(\"잘못된 점수입니다.\")\n",
    "    \n",
    "            "
   ]
  },
  {
   "cell_type": "code",
   "execution_count": 43,
   "metadata": {},
   "outputs": [
    {
     "name": "stdout",
     "output_type": "stream",
     "text": [
      "첫번째 점수를 입력하세요:80\n",
      "두번째 점수를 입력하세요:90\n",
      "세번째 점수를 입력하세요:75\n"
     ]
    },
    {
     "data": {
      "text/plain": [
       "'75'"
      ]
     },
     "execution_count": 43,
     "metadata": {},
     "output_type": "execute_result"
    }
   ],
   "source": [
    "d=input(\"첫번째 점수를 입력하세요:\")\n",
    "e=input(\"두번째 점수를 입력하세요:\")\n",
    "f=input(\"세번째 점수를 입력하세요:\")\n",
    "d\n",
    "e\n",
    "f"
   ]
  },
  {
   "cell_type": "code",
   "execution_count": 44,
   "metadata": {},
   "outputs": [],
   "source": [
    "d=int(d)\n",
    "e=int(e)\n",
    "f=int(f)"
   ]
  },
  {
   "cell_type": "code",
   "execution_count": 45,
   "metadata": {},
   "outputs": [],
   "source": [
    "score2=[d,e,f]"
   ]
  },
  {
   "cell_type": "code",
   "execution_count": 46,
   "metadata": {},
   "outputs": [
    {
     "data": {
      "text/plain": [
       "[80, 90, 75]"
      ]
     },
     "execution_count": 46,
     "metadata": {},
     "output_type": "execute_result"
    }
   ],
   "source": [
    "score2"
   ]
  },
  {
   "cell_type": "code",
   "execution_count": 47,
   "metadata": {},
   "outputs": [
    {
     "name": "stdout",
     "output_type": "stream",
     "text": [
      "합겹\n"
     ]
    }
   ],
   "source": [
    "if 0<score2[0]<=100:\n",
    "    if 0<score2[1]<=100:\n",
    "        if 0<score2[2]<=100:\n",
    "            if score2[0] >65:\n",
    "                if score2[1] > 65:\n",
    "                    if score2[2] >65:\n",
    "                        print(\"합겹\")\n",
    "                    else:\n",
    "                        print(\"불합격\")\n",
    "                else:\n",
    "                    print(\"불합격\")\n",
    "            else:\n",
    "                print(\"불합격\")\n",
    "        else:\n",
    "            print(\"잘못된 점수입니다.\")\n",
    "    else:\n",
    "        print(\"잘못된 점수입니다.\")\n",
    "else:\n",
    "    print(\"잘못된 점수입니다.\")"
   ]
  },
  {
   "cell_type": "code",
   "execution_count": 48,
   "metadata": {},
   "outputs": [
    {
     "name": "stdout",
     "output_type": "stream",
     "text": [
      "첫번째 점수를 입력하세요:50\n",
      "두번째 점수를 입력하세요:60\n",
      "세번째 점수를 입력하세요:90\n"
     ]
    },
    {
     "data": {
      "text/plain": [
       "'90'"
      ]
     },
     "execution_count": 48,
     "metadata": {},
     "output_type": "execute_result"
    }
   ],
   "source": [
    "g=input(\"첫번째 점수를 입력하세요:\")\n",
    "h=input(\"두번째 점수를 입력하세요:\")\n",
    "i=input(\"세번째 점수를 입력하세요:\")\n",
    "g\n",
    "h\n",
    "i"
   ]
  },
  {
   "cell_type": "code",
   "execution_count": 49,
   "metadata": {},
   "outputs": [],
   "source": [
    "g=int(g)\n",
    "h=int(h)\n",
    "i=int(i)\n",
    "score3=[g,h,i]"
   ]
  },
  {
   "cell_type": "code",
   "execution_count": 50,
   "metadata": {},
   "outputs": [
    {
     "data": {
      "text/plain": [
       "[50, 60, 90]"
      ]
     },
     "execution_count": 50,
     "metadata": {},
     "output_type": "execute_result"
    }
   ],
   "source": [
    "score3"
   ]
  },
  {
   "cell_type": "code",
   "execution_count": 51,
   "metadata": {},
   "outputs": [
    {
     "name": "stdout",
     "output_type": "stream",
     "text": [
      "불합격\n"
     ]
    }
   ],
   "source": [
    "if 0<score3[0]<=100:\n",
    "    if 0<score3[1]<=100:\n",
    "        if 0<score3[2]<=100:\n",
    "            if score3[0] >65:\n",
    "                if score3[1] > 65:\n",
    "                    if score3[2] >65:\n",
    "                        print(\"합겹\")\n",
    "                    else:\n",
    "                        print(\"불합격\")\n",
    "                else:\n",
    "                    print(\"불합격\")\n",
    "            else:\n",
    "                print(\"불합격\")\n",
    "        else:\n",
    "            print(\"잘못된 점수입니다.\")\n",
    "    else:\n",
    "        print(\"잘못된 점수입니다.\")\n",
    "else:\n",
    "    print(\"잘못된 점수입니다.\")"
   ]
  },
  {
   "cell_type": "code",
   "execution_count": 52,
   "metadata": {},
   "outputs": [],
   "source": [
    "fruit = ['사과','오렌지']\n",
    "vegetable = ['당근','호박']"
   ]
  },
  {
   "cell_type": "code",
   "execution_count": 54,
   "metadata": {},
   "outputs": [
    {
     "name": "stdout",
     "output_type": "stream",
     "text": [
      "등록할 카테고리를 선택해주세요 (과일,채소) :채소\n",
      "등록할 채소를 입력해주세요 :당근\n"
     ]
    }
   ],
   "source": [
    "category = input(\"등록할 카테고리를 선택해주세요 (과일,채소) :\")\n",
    "item = input(\"등록할 {0}를 입력해주세요 :\".format(category))"
   ]
  },
  {
   "cell_type": "code",
   "execution_count": 57,
   "metadata": {},
   "outputs": [
    {
     "name": "stdout",
     "output_type": "stream",
     "text": [
      "이미 등록된 채소입니다.\n"
     ]
    }
   ],
   "source": [
    "if category == \"과일\":\n",
    "    if item in fruit:\n",
    "        print(\"이미 등록된 {0} 입니다.\".format(category))\n",
    "    else:\n",
    "        fruit.append(item)\n",
    "        fruit\n",
    "else:\n",
    "    if item in vegetable:\n",
    "        print(\"이미 등록된 {0}입니다.\".format(category))\n",
    "    else:\n",
    "        vegetable.append(item)\n",
    "        vegetable"
   ]
  },
  {
   "cell_type": "code",
   "execution_count": 58,
   "metadata": {},
   "outputs": [
    {
     "name": "stdout",
     "output_type": "stream",
     "text": [
      "등록할 카테고리를 선택해주세요 (과일,채소) :채소\n",
      "등록할 채소를 입력해주세요 :오이\n"
     ]
    }
   ],
   "source": [
    "category = input(\"등록할 카테고리를 선택해주세요 (과일,채소) :\")\n",
    "item = input(\"등록할 {0}를 입력해주세요 :\".format(category))"
   ]
  },
  {
   "cell_type": "code",
   "execution_count": 60,
   "metadata": {},
   "outputs": [
    {
     "name": "stdout",
     "output_type": "stream",
     "text": [
      "이미 등록된 채소입니다.\n"
     ]
    }
   ],
   "source": [
    "if category == \"과일\":\n",
    "    if item in fruit:\n",
    "        print(\"이미 등록된 {0} 입니다.\".format(category))\n",
    "    else:\n",
    "        fruit.append(item)\n",
    "        fruit\n",
    "else:\n",
    "    if item in vegetable:\n",
    "        print(\"이미 등록된 {0}입니다.\".format(category))\n",
    "    else:\n",
    "        vegetable.append(item)\n",
    "        vegetable"
   ]
  },
  {
   "cell_type": "code",
   "execution_count": 61,
   "metadata": {},
   "outputs": [
    {
     "data": {
      "text/plain": [
       "['당근', '호박', '오이']"
      ]
     },
     "execution_count": 61,
     "metadata": {},
     "output_type": "execute_result"
    }
   ],
   "source": [
    "vegetable"
   ]
  },
  {
   "cell_type": "code",
   "execution_count": 62,
   "metadata": {},
   "outputs": [],
   "source": [
    "fruit = ['사과','오렌지']\n",
    "vegetable = ['당근','호박']"
   ]
  },
  {
   "cell_type": "code",
   "execution_count": 63,
   "metadata": {},
   "outputs": [
    {
     "name": "stdout",
     "output_type": "stream",
     "text": [
      "등록할 카테고리를 선택해주세요 (과일,채소) :채소\n",
      "등록할 채소를 입력해주세요 :오이\n"
     ]
    }
   ],
   "source": [
    "category = input(\"등록할 카테고리를 선택해주세요 (과일,채소) :\")\n",
    "item = input(\"등록할 {0}를 입력해주세요 :\".format(category))"
   ]
  },
  {
   "cell_type": "code",
   "execution_count": 66,
   "metadata": {},
   "outputs": [
    {
     "name": "stdout",
     "output_type": "stream",
     "text": [
      "이미 등록된 채소입니다.\n"
     ]
    }
   ],
   "source": [
    "if category == \"과일\":\n",
    "    if item in fruit:\n",
    "        print(\"이미 등록된 {0} 입니다.\".format(category))\n",
    "    else:\n",
    "        fruit.append(item)\n",
    "        print(fruit)\n",
    "else:\n",
    "    if item in vegetable:\n",
    "        print(\"이미 등록된 {0}입니다.\".format(category))\n",
    "    else:\n",
    "        vegetable.append(item)\n",
    "        print(vegetable)"
   ]
  },
  {
   "cell_type": "code",
   "execution_count": 65,
   "metadata": {},
   "outputs": [
    {
     "data": {
      "text/plain": [
       "['당근', '호박', '오이']"
      ]
     },
     "execution_count": 65,
     "metadata": {},
     "output_type": "execute_result"
    }
   ],
   "source": [
    "vegetable"
   ]
  },
  {
   "cell_type": "code",
   "execution_count": 67,
   "metadata": {},
   "outputs": [],
   "source": [
    "fruit = ['사과','오렌지']\n",
    "vegetable = ['당근','호박']"
   ]
  },
  {
   "cell_type": "code",
   "execution_count": 68,
   "metadata": {},
   "outputs": [
    {
     "name": "stdout",
     "output_type": "stream",
     "text": [
      "등록할 카테고리를 선택해주세요 (과일,채소) :채소\n",
      "등록할 채소를 입력해주세요 :오이\n"
     ]
    }
   ],
   "source": [
    "category = input(\"등록할 카테고리를 선택해주세요 (과일,채소) :\")\n",
    "item = input(\"등록할 {0}를 입력해주세요 :\".format(category))"
   ]
  },
  {
   "cell_type": "code",
   "execution_count": 69,
   "metadata": {},
   "outputs": [
    {
     "name": "stdout",
     "output_type": "stream",
     "text": [
      "['당근', '호박', '오이']\n"
     ]
    }
   ],
   "source": [
    "if category == \"과일\":\n",
    "    if item in fruit:\n",
    "        print(\"이미 등록된 {0} 입니다.\".format(category))\n",
    "    else:\n",
    "        fruit.append(item)\n",
    "        print(fruit)\n",
    "else:\n",
    "    if item in vegetable:\n",
    "        print(\"이미 등록된 {0}입니다.\".format(category))\n",
    "    else:\n",
    "        vegetable.append(item)\n",
    "        print(vegetable)"
   ]
  },
  {
   "cell_type": "code",
   "execution_count": 74,
   "metadata": {},
   "outputs": [
    {
     "name": "stdout",
     "output_type": "stream",
     "text": [
      "첫번째 점수를 입력하세요:70\n",
      "두번째 점수를 입력하세요:80\n",
      "세번째 점수를 입력하세요:100\n"
     ]
    },
    {
     "data": {
      "text/plain": [
       "100"
      ]
     },
     "execution_count": 74,
     "metadata": {},
     "output_type": "execute_result"
    }
   ],
   "source": [
    "a=int(input(\"첫번째 점수를 입력하세요:\"))\n",
    "b=int(input(\"두번째 점수를 입력하세요:\"))\n",
    "c=int(input(\"세번째 점수를 입력하세요:\"))\n",
    "a\n",
    "b\n",
    "c"
   ]
  },
  {
   "cell_type": "code",
   "execution_count": 75,
   "metadata": {},
   "outputs": [
    {
     "name": "stdout",
     "output_type": "stream",
     "text": [
      "합격\n"
     ]
    }
   ],
   "source": [
    "if (0<=a<=100) and (0<=b<=100) and (0<=c<=100):\n",
    "    if (65<=a) and (65<=b) and (65<=c):\n",
    "        print(\"합격\")\n",
    "    else:\n",
    "        print(\"불합격\")\n",
    "else:\n",
    "    print(\"잘못된 점수입니다.\")"
   ]
  },
  {
   "cell_type": "code",
   "execution_count": 79,
   "metadata": {},
   "outputs": [],
   "source": [
    "a={'나':0,'너':1}"
   ]
  },
  {
   "cell_type": "code",
   "execution_count": 80,
   "metadata": {},
   "outputs": [],
   "source": [
    "b=a.copy()"
   ]
  },
  {
   "cell_type": "code",
   "execution_count": 81,
   "metadata": {},
   "outputs": [
    {
     "data": {
      "text/plain": [
       "{'나': 0, '너': 1}"
      ]
     },
     "execution_count": 81,
     "metadata": {},
     "output_type": "execute_result"
    }
   ],
   "source": [
    "b"
   ]
  },
  {
   "cell_type": "code",
   "execution_count": 91,
   "metadata": {},
   "outputs": [],
   "source": [
    "b.update({'나':2})"
   ]
  },
  {
   "cell_type": "code",
   "execution_count": 92,
   "metadata": {},
   "outputs": [
    {
     "data": {
      "text/plain": [
       "{'나': 0, '너': 1}"
      ]
     },
     "execution_count": 92,
     "metadata": {},
     "output_type": "execute_result"
    }
   ],
   "source": [
    "a"
   ]
  },
  {
   "cell_type": "code",
   "execution_count": 93,
   "metadata": {},
   "outputs": [
    {
     "data": {
      "text/plain": [
       "{'나': 2, '너': 1}"
      ]
     },
     "execution_count": 93,
     "metadata": {},
     "output_type": "execute_result"
    }
   ],
   "source": [
    "b"
   ]
  },
  {
   "cell_type": "code",
   "execution_count": 103,
   "metadata": {},
   "outputs": [],
   "source": [
    "x=[3,6,9,20,-70,5]"
   ]
  },
  {
   "cell_type": "code",
   "execution_count": 119,
   "metadata": {},
   "outputs": [
    {
     "name": "stdout",
     "output_type": "stream",
     "text": [
      "[300, 600, 900, 20000, -7000, 500]\n"
     ]
    }
   ],
   "source": [
    "for i in range(len(x)):\n",
    "    x[i]*=10\n",
    "\n",
    "print(x)"
   ]
  },
  {
   "cell_type": "code",
   "execution_count": 107,
   "metadata": {},
   "outputs": [],
   "source": [
    "y={'math':70,'science':80,'english':20}"
   ]
  },
  {
   "cell_type": "code",
   "execution_count": 108,
   "metadata": {},
   "outputs": [
    {
     "data": {
      "text/plain": [
       "{'math': 70, 'science': 80, 'english': 20}"
      ]
     },
     "execution_count": 108,
     "metadata": {},
     "output_type": "execute_result"
    }
   ],
   "source": [
    "y"
   ]
  },
  {
   "cell_type": "code",
   "execution_count": 112,
   "metadata": {},
   "outputs": [
    {
     "name": "stdout",
     "output_type": "stream",
     "text": [
      "math70\n",
      "science80\n",
      "english20\n"
     ]
    }
   ],
   "source": [
    "for i in y:\n",
    "    print(i,end=\"\")\n",
    "    print(y[i])"
   ]
  },
  {
   "cell_type": "code",
   "execution_count": 115,
   "metadata": {},
   "outputs": [
    {
     "name": "stdout",
     "output_type": "stream",
     "text": [
      "80\n",
      "90\n",
      "30\n"
     ]
    },
    {
     "data": {
      "text/plain": [
       "{'math': 80, 'science': 90, 'english': 30}"
      ]
     },
     "execution_count": 115,
     "metadata": {},
     "output_type": "execute_result"
    }
   ],
   "source": [
    "for i in y:\n",
    "    y[i] += 10\n",
    "    print(y[i])\n",
    "y\n",
    "    "
   ]
  },
  {
   "cell_type": "code",
   "execution_count": 120,
   "metadata": {},
   "outputs": [
    {
     "name": "stdout",
     "output_type": "stream",
     "text": [
      "몇단을 출력하시겠습니까?:3\n"
     ]
    },
    {
     "data": {
      "text/plain": [
       "3"
      ]
     },
     "execution_count": 120,
     "metadata": {},
     "output_type": "execute_result"
    }
   ],
   "source": [
    "num=int(input(\"몇단을 출력하시겠습니까?:\"))\n",
    "num"
   ]
  },
  {
   "cell_type": "code",
   "execution_count": 128,
   "metadata": {},
   "outputs": [
    {
     "name": "stdout",
     "output_type": "stream",
     "text": [
      "3*1=3\n",
      "3*2=6\n",
      "3*3=9\n",
      "3*4=12\n",
      "3*5=15\n",
      "3*6=18\n",
      "3*7=21\n",
      "3*8=24\n",
      "3*9=27\n"
     ]
    }
   ],
   "source": [
    "result=[]\n",
    "for i in range(1,10):\n",
    "    x= num*i\n",
    "    result.append(x)\n",
    "    print(\"{0}*{1}={2}\".format(num,i,x))"
   ]
  },
  {
   "cell_type": "code",
   "execution_count": 130,
   "metadata": {},
   "outputs": [],
   "source": [
    "word=['school','game','piano','science','hotel','mountain']"
   ]
  },
  {
   "cell_type": "code",
   "execution_count": 131,
   "metadata": {},
   "outputs": [
    {
     "data": {
      "text/plain": [
       "['school', 'game', 'piano', 'science', 'hotel', 'mountain']"
      ]
     },
     "execution_count": 131,
     "metadata": {},
     "output_type": "execute_result"
    }
   ],
   "source": [
    "word"
   ]
  },
  {
   "cell_type": "code",
   "execution_count": 137,
   "metadata": {},
   "outputs": [
    {
     "name": "stdout",
     "output_type": "stream",
     "text": [
      "['school', 'science', 'mountain']\n"
     ]
    }
   ],
   "source": [
    "word2=[]\n",
    "for i in word:\n",
    "    if len(i)>=6:\n",
    "        word2.append(i)\n",
    "print(word2)\n",
    "    "
   ]
  },
  {
   "cell_type": "code",
   "execution_count": 138,
   "metadata": {},
   "outputs": [
    {
     "name": "stdout",
     "output_type": "stream",
     "text": [
      "2*1 = 2\n",
      "2*2 = 4\n",
      "2*3 = 6\n",
      "2*4 = 8\n",
      "2*5 = 10\n",
      "2*6 = 12\n",
      "2*7 = 14\n",
      "2*8 = 16\n",
      "2*9 = 18\n",
      "3*1 = 3\n",
      "3*2 = 6\n",
      "3*3 = 9\n",
      "3*4 = 12\n",
      "3*5 = 15\n",
      "3*6 = 18\n",
      "3*7 = 21\n",
      "3*8 = 24\n",
      "3*9 = 27\n",
      "4*1 = 4\n",
      "4*2 = 8\n",
      "4*3 = 12\n",
      "4*4 = 16\n",
      "4*5 = 20\n",
      "4*6 = 24\n",
      "4*7 = 28\n",
      "4*8 = 32\n",
      "4*9 = 36\n",
      "5*1 = 5\n",
      "5*2 = 10\n",
      "5*3 = 15\n",
      "5*4 = 20\n",
      "5*5 = 25\n",
      "5*6 = 30\n",
      "5*7 = 35\n",
      "5*8 = 40\n",
      "5*9 = 45\n",
      "6*1 = 6\n",
      "6*2 = 12\n",
      "6*3 = 18\n",
      "6*4 = 24\n",
      "6*5 = 30\n",
      "6*6 = 36\n",
      "6*7 = 42\n",
      "6*8 = 48\n",
      "6*9 = 54\n",
      "7*1 = 7\n",
      "7*2 = 14\n",
      "7*3 = 21\n",
      "7*4 = 28\n",
      "7*5 = 35\n",
      "7*6 = 42\n",
      "7*7 = 49\n",
      "7*8 = 56\n",
      "7*9 = 63\n",
      "8*1 = 8\n",
      "8*2 = 16\n",
      "8*3 = 24\n",
      "8*4 = 32\n",
      "8*5 = 40\n",
      "8*6 = 48\n",
      "8*7 = 56\n",
      "8*8 = 64\n",
      "8*9 = 72\n",
      "9*1 = 9\n",
      "9*2 = 18\n",
      "9*3 = 27\n",
      "9*4 = 36\n",
      "9*5 = 45\n",
      "9*6 = 54\n",
      "9*7 = 63\n",
      "9*8 = 72\n",
      "9*9 = 81\n"
     ]
    }
   ],
   "source": [
    "results=[]\n",
    "for i in range(2,10):\n",
    "    for j in range(1,10):\n",
    "        x=i*j\n",
    "        results.append(x)\n",
    "        print(\"{0}*{1} = {2}\".format(i,j,x))\n",
    "        "
   ]
  },
  {
   "cell_type": "code",
   "execution_count": 139,
   "metadata": {},
   "outputs": [],
   "source": [
    "z=[3,6,9,20,-70,5]"
   ]
  },
  {
   "cell_type": "code",
   "execution_count": 144,
   "metadata": {},
   "outputs": [
    {
     "name": "stdout",
     "output_type": "stream",
     "text": [
      "0\n",
      "1\n",
      "2\n",
      "3\n",
      "4\n",
      "5\n"
     ]
    }
   ],
   "source": [
    "for i in z:\n",
    "    for j in range(len(z)):\n",
    "        if \n",
    "    \n",
    "        \n"
   ]
  },
  {
   "cell_type": "code",
   "execution_count": 164,
   "metadata": {},
   "outputs": [
    {
     "name": "stdout",
     "output_type": "stream",
     "text": [
      "값을 입력해주세요.:30\n",
      "값을 입력해주세요.:20\n",
      "값을 입력해주세요.:50\n",
      "값을 입력해주세요.:60\n",
      "값을 입력해주세요.:0\n"
     ]
    }
   ],
   "source": [
    "t=0\n",
    "i=1\n",
    "s=[]\n",
    "while i!=0:\n",
    "    i=int(input(\"값을 입력해주세요.:\"))\n",
    "    s.append(i)"
   ]
  },
  {
   "cell_type": "code",
   "execution_count": 165,
   "metadata": {},
   "outputs": [
    {
     "name": "stdout",
     "output_type": "stream",
     "text": [
      "합계는 160\n"
     ]
    }
   ],
   "source": [
    "for i in s:\n",
    "    t+=i\n",
    "print(f\"합계는 {t}\")"
   ]
  },
  {
   "cell_type": "code",
   "execution_count": null,
   "metadata": {},
   "outputs": [],
   "source": [
    "i=1\n",
    "t=0\n",
    "v=0\n",
    "h=[]"
   ]
  },
  {
   "cell_type": "code",
   "execution_count": null,
   "metadata": {},
   "outputs": [],
   "source": [
    "while i == 1 or 2 or 3:\n",
    "    i=int(input(\"가위(1),바위(2),보(3)를 입력해주세요.:\"))\n",
    "    import random #random\n",
    "    random.random()\n",
    "    computer=random.randint(1,3)4\n",
    "    if i>computer:\n",
    "        r=\"승\"\n",
    "        h.append(r)\n",
    "    else:\n",
    "        pass\n",
    "    if i ==1:\n",
    "        i=\"가위\"\n",
    "    elif i ==2:\n",
    "        i=\"바위\"\n",
    "    else:\n",
    "        i = \"보\"\n",
    "    if computer == 1:\n",
    "        computer = \"가위\"\n",
    "    elif i ==2:\n",
    "        computer=\"바위\"\n",
    "    else:\n",
    "        computer = \"보\"\n",
    "    t+=1\n",
    "    print(\n",
    "        f\"유저:{i},컴퓨터:{computer}\")\n",
    "for i in h:\n",
    "    if i == \"승\":\n",
    "        v+=1\n",
    "print(f\"전적:{t}, 승리:{v}\")"
   ]
  },
  {
   "cell_type": "code",
   "execution_count": 177,
   "metadata": {},
   "outputs": [
    {
     "name": "stdout",
     "output_type": "stream",
     "text": [
      "가위(1),바위(2),보(3)를 입력해주세요.:3\n",
      "유저:보,컴퓨터:가위\n",
      "가위(1),바위(2),보(3)를 입력해주세요.:2\n",
      "유저:바위,컴퓨터:바위\n",
      "가위(1),바위(2),보(3)를 입력해주세요.:1\n",
      "유저:가위,컴퓨터:보\n",
      "가위(1),바위(2),보(3)를 입력해주세요.:3\n",
      "유저:보,컴퓨터:가위\n",
      "가위(1),바위(2),보(3)를 입력해주세요.:4\n",
      "전적:4, 승리:2\n"
     ]
    }
   ],
   "source": [
    "i=1\n",
    "t=0\n",
    "v=0\n",
    "h=[]\n",
    "\n",
    "\n",
    "while i==1 or i==2 or i==3:\n",
    "    i=int(input(\"가위(1),바위(2),보(3)를 입력해주세요.:\"))\n",
    "    if i!=1 and i!=2 and i!=3:\n",
    "        for i in h:\n",
    "            if i == \"승\":\n",
    "                v+=1\n",
    "        print(f\"전적:{t}, 승리:{v}\")\n",
    "    else:\n",
    "        import random #random\n",
    "        random.random()\n",
    "        computer=random.randint(1,3)\n",
    "        if i>computer:\n",
    "            r=\"승\"\n",
    "            h.append(r)\n",
    "        else:\n",
    "            pass\n",
    "        if i ==1:\n",
    "            u=\"가위\"\n",
    "        elif i ==2:\n",
    "            u=\"바위\"\n",
    "        else:\n",
    "            u = \"보\"\n",
    "        if computer == 1:\n",
    "            computer = \"가위\"\n",
    "        elif i ==2:\n",
    "            computer=\"바위\"\n",
    "        else:\n",
    "            computer = \"보\"\n",
    "        t+=1\n",
    "        print(f\"유저:{u},컴퓨터:{computer}\")\n"
   ]
  },
  {
   "cell_type": "code",
   "execution_count": 213,
   "metadata": {},
   "outputs": [
    {
     "ename": "KeyboardInterrupt",
     "evalue": "",
     "output_type": "error",
     "traceback": [
      "\u001b[1;31m---------------------------------------------------------------------------\u001b[0m",
      "\u001b[1;31mKeyboardInterrupt\u001b[0m                         Traceback (most recent call last)",
      "\u001b[1;32m<ipython-input-213-e1525a94c377>\u001b[0m in \u001b[0;36m<module>\u001b[1;34m\u001b[0m\n\u001b[0;32m      3\u001b[0m     \u001b[0mn\u001b[0m\u001b[1;33m=\u001b[0m\u001b[0midx\u001b[0m\u001b[1;33m\u001b[0m\u001b[1;33m\u001b[0m\u001b[0m\n\u001b[0;32m      4\u001b[0m     \u001b[1;32mfor\u001b[0m \u001b[0mj\u001b[0m \u001b[1;32min\u001b[0m \u001b[0mrange\u001b[0m\u001b[1;33m(\u001b[0m\u001b[0mlen\u001b[0m\u001b[1;33m(\u001b[0m\u001b[0mz\u001b[0m\u001b[1;33m)\u001b[0m\u001b[1;33m)\u001b[0m\u001b[1;33m:\u001b[0m\u001b[1;33m\u001b[0m\u001b[1;33m\u001b[0m\u001b[0m\n\u001b[1;32m----> 5\u001b[1;33m         \u001b[1;32mif\u001b[0m \u001b[0mi\u001b[0m \u001b[1;33m>\u001b[0m \u001b[0mz\u001b[0m\u001b[1;33m[\u001b[0m\u001b[0mj\u001b[0m\u001b[1;33m]\u001b[0m\u001b[1;33m:\u001b[0m\u001b[1;33m\u001b[0m\u001b[1;33m\u001b[0m\u001b[0m\n\u001b[0m\u001b[0;32m      6\u001b[0m             \u001b[0mi\u001b[0m\u001b[1;33m=\u001b[0m\u001b[0mz\u001b[0m\u001b[1;33m[\u001b[0m\u001b[0mj\u001b[0m\u001b[1;33m]\u001b[0m\u001b[1;33m\u001b[0m\u001b[1;33m\u001b[0m\u001b[0m\n\u001b[0;32m      7\u001b[0m     \u001b[0mz\u001b[0m\u001b[1;33m.\u001b[0m\u001b[0minsert\u001b[0m\u001b[1;33m(\u001b[0m\u001b[0mn\u001b[0m\u001b[1;33m,\u001b[0m\u001b[0mi\u001b[0m\u001b[1;33m)\u001b[0m\u001b[1;33m\u001b[0m\u001b[1;33m\u001b[0m\u001b[0m\n",
      "\u001b[1;31mKeyboardInterrupt\u001b[0m: "
     ]
    }
   ],
   "source": [
    "z=[3,6,9,20,-7,5]\n",
    "for i in z:\n",
    "    n=idx\n",
    "    for j in range(len(z)):\n",
    "        if i > z[j]:\n",
    "            i=z[j]\n",
    "    z.insert(n,i)\n",
    "    \n",
    "print(z)\n"
   ]
  },
  {
   "cell_type": "code",
   "execution_count": 211,
   "metadata": {},
   "outputs": [
    {
     "name": "stdout",
     "output_type": "stream",
     "text": [
      "[1, 2, 3, 4, 5, 6, 7, 8, 9, 10, 11, 12, 13, 14, 15, 16, 17, 18, 19, 20, 21, 22, 23, 24, 25, 26, 27, 28, 29, 30, 31, 32, 33, 34, 35, 36, 37, 38, 39, 40, 41, 42, 43, 44, 45, 46, 47, 48, 49, 50, 51, 52, 53, 54, 55, 56, 57, 58, 59, 60, 61, 62, 63, 64, 65, 66, 67, 68, 69, 70, 71, 72, 73, 74, 75, 76, 77, 78, 79, 80, 81, 82, 83, 84, 85, 86, 87, 88, 89, 90, 91, 92, 93, 94, 95, 96, 97, 98, 99, 100]"
     ]
    }
   ],
   "source": [
    "a=list(range(1,101))\n",
    "print(a,end=\"\")"
   ]
  },
  {
   "cell_type": "code",
   "execution_count": 212,
   "metadata": {},
   "outputs": [
    {
     "name": "stdout",
     "output_type": "stream",
     "text": [
      "1\n",
      "2\n",
      "3의 배수\n",
      "4\n",
      "5의 배수\n",
      "3의 배수\n",
      "7\n",
      "8\n",
      "3의 배수\n",
      "5의 배수\n",
      "11\n",
      "3의 배수\n",
      "13\n",
      "14\n",
      "3과5의 공배수\n",
      "16\n",
      "17\n",
      "3의 배수\n",
      "19\n",
      "5의 배수\n",
      "3의 배수\n",
      "22\n",
      "23\n",
      "3의 배수\n",
      "5의 배수\n",
      "26\n",
      "3의 배수\n",
      "28\n",
      "29\n",
      "3과5의 공배수\n",
      "31\n",
      "32\n",
      "3의 배수\n",
      "34\n",
      "5의 배수\n",
      "3의 배수\n",
      "37\n",
      "38\n",
      "3의 배수\n",
      "5의 배수\n",
      "41\n",
      "3의 배수\n",
      "43\n",
      "44\n",
      "3과5의 공배수\n",
      "46\n",
      "47\n",
      "3의 배수\n",
      "49\n",
      "5의 배수\n",
      "3의 배수\n",
      "52\n",
      "53\n",
      "3의 배수\n",
      "5의 배수\n",
      "56\n",
      "3의 배수\n",
      "58\n",
      "59\n",
      "3과5의 공배수\n",
      "61\n",
      "62\n",
      "3의 배수\n",
      "64\n",
      "5의 배수\n",
      "3의 배수\n",
      "67\n",
      "68\n",
      "3의 배수\n",
      "5의 배수\n",
      "71\n",
      "3의 배수\n",
      "73\n",
      "74\n",
      "3과5의 공배수\n",
      "76\n",
      "77\n",
      "3의 배수\n",
      "79\n",
      "5의 배수\n",
      "3의 배수\n",
      "82\n",
      "83\n",
      "3의 배수\n",
      "5의 배수\n",
      "86\n",
      "3의 배수\n",
      "88\n",
      "89\n",
      "3과5의 공배수\n",
      "91\n",
      "92\n",
      "3의 배수\n",
      "94\n",
      "5의 배수\n",
      "3의 배수\n",
      "97\n",
      "98\n",
      "3의 배수\n",
      "5의 배수\n"
     ]
    }
   ],
   "source": [
    "for i in a:\n",
    "    if (i %3 == 0) and (i %5==0):\n",
    "        print(\"3과5의 공배수\")\n",
    "    elif i%3 == 0 or i%5 == 0 :\n",
    "        if i%3 == 0:\n",
    "            print(\"3의 배수\")\n",
    "        else:\n",
    "            print(\"5의 배수\")\n",
    "    else:\n",
    "        print(i)"
   ]
  },
  {
   "cell_type": "code",
   "execution_count": 14,
   "metadata": {},
   "outputs": [],
   "source": [
    "x= [3,6,9,20,-7,5]"
   ]
  },
  {
   "cell_type": "code",
   "execution_count": 15,
   "metadata": {},
   "outputs": [
    {
     "name": "stdout",
     "output_type": "stream",
     "text": [
      "[-7, 3, 5, 6, 9, 20]\n"
     ]
    }
   ],
   "source": [
    "for i in range(len(x)-1):\n",
    "    for j in range(len(x)-i-1):\n",
    "        if x[j]> x[j+1]:\n",
    "            temp=x[j]\n",
    "            x[j]=x[j+1]\n",
    "            x[j+1]=temp\n",
    "print(x)"
   ]
  },
  {
   "cell_type": "code",
   "execution_count": 17,
   "metadata": {},
   "outputs": [
    {
     "name": "stdout",
     "output_type": "stream",
     "text": [
      "0 0\n",
      "0 1\n",
      "0 2\n",
      "0 3\n",
      "0 4\n",
      "1 0\n",
      "1 1\n",
      "1 2\n",
      "1 3\n",
      "2 0\n",
      "2 1\n",
      "2 2\n",
      "3 0\n",
      "3 1\n",
      "4 0\n"
     ]
    }
   ],
   "source": [
    "x= [3,6,9,20,-7,5]\n",
    "for i in range(len(x)-1):\n",
    "    for j in range(len(x)-i-1):\n",
    "        print(i,j)"
   ]
  },
  {
   "cell_type": "code",
   "execution_count": 18,
   "metadata": {},
   "outputs": [
    {
     "name": "stdout",
     "output_type": "stream",
     "text": [
      "가위(1), 바위(2), 보(3) 을 입력해주세요 :3\n",
      "유저 : 보, 컴퓨터 : 바위\n",
      "가위(1), 바위(2), 보(3) 을 입력해주세요 :2\n",
      "유저 : 바위, 컴퓨터 : 가위\n",
      "가위(1), 바위(2), 보(3) 을 입력해주세요 :1\n",
      "유저 : 가위, 컴퓨터 : 가위\n",
      "가위(1), 바위(2), 보(3) 을 입력해주세요 :4\n",
      "게임종료 (전체:3 ,승리:2)\n"
     ]
    }
   ],
   "source": [
    "import random\n",
    "random.randint(1, 3)\n",
    "game_dict = {1:\"가위\", 2:\"바위\", 3:\"보\"}\n",
    "total = 0\n",
    "win = 0\n",
    "user = 1\n",
    "computer = -1\n",
    "\n",
    "while user in [1, 2, 3]:\n",
    "    user = int(input(\"가위(1), 바위(2), 보(3) 을 입력해주세요 :\"))\n",
    "    computer = random.randint(1, 3)\n",
    "    \n",
    "    if user not in [1, 2, 3]:\n",
    "        break\n",
    "    \n",
    "    total += 1\n",
    "    print(f\"유저 : {game_dict[user]}, 컴퓨터 : {game_dict[computer]}\")\n",
    "    \n",
    "    if (user == 1 and computer == 3) or (user == 2 and computer == 1) or (user == 3 and computer == 2):\n",
    "        win += 1\n",
    "        \n",
    "        \n",
    "\n",
    "print(f\"게임종료 (전체:{total} ,승리:{win})\")"
   ]
  },
  {
   "cell_type": "code",
   "execution_count": null,
   "metadata": {},
   "outputs": [],
   "source": []
  }
 ],
 "metadata": {
  "kernelspec": {
   "display_name": "Python 3",
   "language": "python",
   "name": "python3"
  },
  "language_info": {
   "codemirror_mode": {
    "name": "ipython",
    "version": 3
   },
   "file_extension": ".py",
   "mimetype": "text/x-python",
   "name": "python",
   "nbconvert_exporter": "python",
   "pygments_lexer": "ipython3",
   "version": "3.8.5"
  }
 },
 "nbformat": 4,
 "nbformat_minor": 4
}
