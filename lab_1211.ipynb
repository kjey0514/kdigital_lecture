{
 "cells": [
  {
   "cell_type": "code",
   "execution_count": 7,
   "metadata": {},
   "outputs": [],
   "source": [
    "\n",
    "num=0\n",
    "name=\"이민호\"\n",
    "math=\"30\"\n",
    "science=\"40\"\n",
    "english=\"50\"\n",
    "student_list=[{\"번호\":0,\"이름\":name,\"수학\":math,\"과학\":science,\"영어\":english}]\n",
    "    \n",
    "    \n",
    "import pickle\n",
    "with open(\"score_manager.pkl\", \"wb\") as file:\n",
    "    pickle.dump(student_list, file)\n"
   ]
  },
  {
   "cell_type": "code",
   "execution_count": 55,
   "metadata": {},
   "outputs": [
    {
     "name": "stdout",
     "output_type": "stream",
     "text": [
      "메뉴를 선택해주세요 1-입력,2-조회,3-삭제,0-종료:2\n",
      "[0] 이름:이민호, 수학:30,과학:40,영어:50\n",
      "[1] 이름:홍길동, 수학:60,과학:70,영어:80\n"
     ]
    },
    {
     "ename": "KeyboardInterrupt",
     "evalue": "Interrupted by user",
     "output_type": "error",
     "traceback": [
      "\u001b[1;31m---------------------------------------------------------------------------\u001b[0m",
      "\u001b[1;31mKeyboardInterrupt\u001b[0m                         Traceback (most recent call last)",
      "\u001b[1;32m<ipython-input-55-f95dfc9f7e18>\u001b[0m in \u001b[0;36m<module>\u001b[1;34m\u001b[0m\n\u001b[0;32m      5\u001b[0m     \u001b[0mlast_student\u001b[0m\u001b[1;33m=\u001b[0m\u001b[0mstudent_list\u001b[0m\u001b[1;33m[\u001b[0m\u001b[1;33m-\u001b[0m\u001b[1;36m1\u001b[0m\u001b[1;33m]\u001b[0m\u001b[1;33m\u001b[0m\u001b[1;33m\u001b[0m\u001b[0m\n\u001b[0;32m      6\u001b[0m     \u001b[0mnum\u001b[0m\u001b[1;33m=\u001b[0m\u001b[0mlast_student\u001b[0m\u001b[1;33m[\u001b[0m\u001b[1;34m\"번호\"\u001b[0m\u001b[1;33m]\u001b[0m\u001b[1;33m\u001b[0m\u001b[1;33m\u001b[0m\u001b[0m\n\u001b[1;32m----> 7\u001b[1;33m     \u001b[0mmenu\u001b[0m \u001b[1;33m=\u001b[0m \u001b[0mint\u001b[0m\u001b[1;33m(\u001b[0m\u001b[0minput\u001b[0m\u001b[1;33m(\u001b[0m\u001b[1;34m\"메뉴를 선택해주세요 1-입력,2-조회,3-삭제,0-종료:\"\u001b[0m\u001b[1;33m)\u001b[0m\u001b[1;33m)\u001b[0m\u001b[1;33m\u001b[0m\u001b[1;33m\u001b[0m\u001b[0m\n\u001b[0m\u001b[0;32m      8\u001b[0m \u001b[1;33m\u001b[0m\u001b[0m\n\u001b[0;32m      9\u001b[0m     \u001b[1;32mif\u001b[0m \u001b[0mmenu\u001b[0m \u001b[1;33m==\u001b[0m \u001b[1;36m1\u001b[0m\u001b[1;33m:\u001b[0m\u001b[1;33m\u001b[0m\u001b[1;33m\u001b[0m\u001b[0m\n",
      "\u001b[1;32m~\\anaconda3\\lib\\site-packages\\ipykernel\\kernelbase.py\u001b[0m in \u001b[0;36mraw_input\u001b[1;34m(self, prompt)\u001b[0m\n\u001b[0;32m    858\u001b[0m                 \u001b[1;34m\"raw_input was called, but this frontend does not support input requests.\"\u001b[0m\u001b[1;33m\u001b[0m\u001b[1;33m\u001b[0m\u001b[0m\n\u001b[0;32m    859\u001b[0m             )\n\u001b[1;32m--> 860\u001b[1;33m         return self._input_request(str(prompt),\n\u001b[0m\u001b[0;32m    861\u001b[0m             \u001b[0mself\u001b[0m\u001b[1;33m.\u001b[0m\u001b[0m_parent_ident\u001b[0m\u001b[1;33m,\u001b[0m\u001b[1;33m\u001b[0m\u001b[1;33m\u001b[0m\u001b[0m\n\u001b[0;32m    862\u001b[0m             \u001b[0mself\u001b[0m\u001b[1;33m.\u001b[0m\u001b[0m_parent_header\u001b[0m\u001b[1;33m,\u001b[0m\u001b[1;33m\u001b[0m\u001b[1;33m\u001b[0m\u001b[0m\n",
      "\u001b[1;32m~\\anaconda3\\lib\\site-packages\\ipykernel\\kernelbase.py\u001b[0m in \u001b[0;36m_input_request\u001b[1;34m(self, prompt, ident, parent, password)\u001b[0m\n\u001b[0;32m    902\u001b[0m             \u001b[1;32mexcept\u001b[0m \u001b[0mKeyboardInterrupt\u001b[0m\u001b[1;33m:\u001b[0m\u001b[1;33m\u001b[0m\u001b[1;33m\u001b[0m\u001b[0m\n\u001b[0;32m    903\u001b[0m                 \u001b[1;31m# re-raise KeyboardInterrupt, to truncate traceback\u001b[0m\u001b[1;33m\u001b[0m\u001b[1;33m\u001b[0m\u001b[1;33m\u001b[0m\u001b[0m\n\u001b[1;32m--> 904\u001b[1;33m                 \u001b[1;32mraise\u001b[0m \u001b[0mKeyboardInterrupt\u001b[0m\u001b[1;33m(\u001b[0m\u001b[1;34m\"Interrupted by user\"\u001b[0m\u001b[1;33m)\u001b[0m \u001b[1;32mfrom\u001b[0m \u001b[1;32mNone\u001b[0m\u001b[1;33m\u001b[0m\u001b[1;33m\u001b[0m\u001b[0m\n\u001b[0m\u001b[0;32m    905\u001b[0m             \u001b[1;32mexcept\u001b[0m \u001b[0mException\u001b[0m \u001b[1;32mas\u001b[0m \u001b[0me\u001b[0m\u001b[1;33m:\u001b[0m\u001b[1;33m\u001b[0m\u001b[1;33m\u001b[0m\u001b[0m\n\u001b[0;32m    906\u001b[0m                 \u001b[0mself\u001b[0m\u001b[1;33m.\u001b[0m\u001b[0mlog\u001b[0m\u001b[1;33m.\u001b[0m\u001b[0mwarning\u001b[0m\u001b[1;33m(\u001b[0m\u001b[1;34m\"Invalid Message:\"\u001b[0m\u001b[1;33m,\u001b[0m \u001b[0mexc_info\u001b[0m\u001b[1;33m=\u001b[0m\u001b[1;32mTrue\u001b[0m\u001b[1;33m)\u001b[0m\u001b[1;33m\u001b[0m\u001b[1;33m\u001b[0m\u001b[0m\n",
      "\u001b[1;31mKeyboardInterrupt\u001b[0m: Interrupted by user"
     ]
    }
   ],
   "source": [
    "menu=1\n",
    "while menu in [1,2,3]:\n",
    "    with open(\"score_manager.pkl\", \"rb\") as file:\n",
    "        student_list = pickle.load(file)\n",
    "    last_student=student_list[-1]\n",
    "    num=last_student[\"번호\"]\n",
    "    menu = int(input(\"메뉴를 선택해주세요 1-입력,2-조회,3-삭제,0-종료:\"))\n",
    "       \n",
    "    if menu == 1:\n",
    "        num+=1\n",
    "        name=input(\"이름:\")\n",
    "        math=int(input(\"수학:\"))\n",
    "        science=int(input(\"과학:\"))\n",
    "        english=int(input(\"영어:\"))\n",
    "        student_dict={\"번호\":num,\"이름\":name,\"수학\":math,\"과학\":science,\"영어\":english}\n",
    "        student_list.append(student_dict)\n",
    "        with open(\"score_manager.pkl\", \"wb\") as file:\n",
    "            pickle.dump(student_list, file)\n",
    "    elif menu == 2:\n",
    "        for i in student_list:\n",
    "            \n",
    "            print(f\"[{i['번호']}] 이름:{i['이름']}, 수학:{i['수학']},과학:{i['과학']},영어:{i['영어']}\")\n",
    "        \n",
    "            \n",
    "    elif menu == 3:\n",
    "        import copy\n",
    "        print(student_list)\n",
    "        delete_num=int(input(\"삭제할 번호를 입력해 주세요.\"))\n",
    "        student_list.pop(delete_num)\n",
    "        temp=[]\n",
    "        for i,v in enumerate(student_list):\n",
    "            temp_dict=copy.deepcopy(v)\n",
    "            print(temp_dict)\n",
    "            temp_dict.update({\"번호\":i})\n",
    "            temp.append(temp_dict)\n",
    "        student_list = copy.deepcopy(temp)\n",
    "        print(student_list)\n",
    "        with open(\"score_manager.pkl\", \"wb\") as file:\n",
    "            pickle.dump(student_list, file)\n",
    "    elif menu == 0:\n",
    "        print(\"종료되었습니다\")\n",
    "        break\n",
    "        \n",
    "        "
   ]
  },
  {
   "cell_type": "code",
   "execution_count": 56,
   "metadata": {},
   "outputs": [
    {
     "name": "stdout",
     "output_type": "stream",
     "text": [
      "[0, 3, 6]\n"
     ]
    }
   ],
   "source": [
    "lis=[1,2,3,1,4,2,1]\n",
    "def func(lst,a):\n",
    "    temp=[]\n",
    "    for i,v in enumerate(lst):\n",
    "        if v == a:\n",
    "            temp.append(i)\n",
    "    return temp\n",
    "func_lis=func(lis,1)\n",
    "print(func_lis)\n",
    "        \n",
    "    "
   ]
  },
  {
   "cell_type": "code",
   "execution_count": 62,
   "metadata": {},
   "outputs": [
    {
     "name": "stdout",
     "output_type": "stream",
     "text": [
      "8\n"
     ]
    }
   ],
   "source": [
    "\n",
    "def calc(operator, num1, num2):\n",
    "    ret = 0\n",
    "    if operator == \"+\":\n",
    "        ret = num1 + num2\n",
    "    elif operator == \"-\":\n",
    "        ret = num1-num2\n",
    "    elif operator ==\"*\":\n",
    "        ret = num1*num2\n",
    "    elif operator == \"/\":\n",
    "        ret = num/num\n",
    "    \n",
    "    return ret\n",
    "\n",
    "calc_test= calc(\"+\",3,5)\n",
    "print(calc_test)"
   ]
  },
  {
   "cell_type": "code",
   "execution_count": 63,
   "metadata": {},
   "outputs": [
    {
     "name": "stdout",
     "output_type": "stream",
     "text": [
      "입력:+\n"
     ]
    }
   ],
   "source": [
    "op=input(\"입력:\")"
   ]
  },
  {
   "cell_type": "code",
   "execution_count": 64,
   "metadata": {},
   "outputs": [
    {
     "name": "stdout",
     "output_type": "stream",
     "text": [
      "+\n"
     ]
    }
   ],
   "source": [
    "print(op)"
   ]
  },
  {
   "cell_type": "code",
   "execution_count": 69,
   "metadata": {},
   "outputs": [
    {
     "name": "stdout",
     "output_type": "stream",
     "text": [
      "입력:*\n",
      "입력:3\n",
      "입력:6\n"
     ]
    }
   ],
   "source": [
    "op=input(\"입력:\")\n",
    "a=int(input(\"입력:\"))\n",
    "b=int(input(\"입력:\"))"
   ]
  },
  {
   "cell_type": "code",
   "execution_count": 70,
   "metadata": {},
   "outputs": [
    {
     "name": "stdout",
     "output_type": "stream",
     "text": [
      "18\n"
     ]
    }
   ],
   "source": [
    "calc_test= calc(op,a,b)\n",
    "print(calc_test)"
   ]
  },
  {
   "cell_type": "code",
   "execution_count": null,
   "metadata": {},
   "outputs": [],
   "source": []
  }
 ],
 "metadata": {
  "kernelspec": {
   "display_name": "Python 3",
   "language": "python",
   "name": "python3"
  },
  "language_info": {
   "codemirror_mode": {
    "name": "ipython",
    "version": 3
   },
   "file_extension": ".py",
   "mimetype": "text/x-python",
   "name": "python",
   "nbconvert_exporter": "python",
   "pygments_lexer": "ipython3",
   "version": "3.8.5"
  }
 },
 "nbformat": 4,
 "nbformat_minor": 4
}
