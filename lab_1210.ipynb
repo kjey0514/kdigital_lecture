{
 "cells": [
  {
   "cell_type": "code",
   "execution_count": 2,
   "metadata": {},
   "outputs": [
    {
     "name": "stdout",
     "output_type": "stream",
     "text": [
      "숫자를 입력하세요20\n",
      "0\n",
      "1\n",
      "2\n",
      "3\n",
      "4\n",
      "5\n",
      "6\n",
      "7\n",
      "8\n",
      "9\n",
      "10\n",
      "11\n",
      "12\n",
      "13\n",
      "14\n",
      "15\n",
      "16\n",
      "17\n",
      "18\n",
      "19\n",
      "20\n"
     ]
    }
   ],
   "source": [
    "user = int(input(\"숫자를 입력하세요\"))\n",
    "cnt = 0\n",
    "while True:\n",
    "    if cnt <= user:\n",
    "        print(f\"{cnt}\")\n",
    "        cnt+=1\n",
    "    else:\n",
    "        break"
   ]
  },
  {
   "cell_type": "code",
   "execution_count": 4,
   "metadata": {},
   "outputs": [
    {
     "name": "stdout",
     "output_type": "stream",
     "text": [
      "숫자를 입력해주세요20\n",
      "0\n",
      "2\n",
      "4\n",
      "6\n",
      "8\n",
      "10\n",
      "12\n",
      "14\n",
      "16\n",
      "18\n",
      "20\n"
     ]
    }
   ],
   "source": [
    "user = int(input(\"숫자를 입력해주세요\"))\n",
    "for i in range(user+1):\n",
    "    if i%2==0:\n",
    "        print(f\"{i}\")\n",
    "    else:\n",
    "        continue\n"
   ]
  },
  {
   "cell_type": "code",
   "execution_count": 14,
   "metadata": {},
   "outputs": [
    {
     "data": {
      "text/plain": [
       "['school', 'game', 'piano', 'science', 'hotel', 'mountain']"
      ]
     },
     "execution_count": 14,
     "metadata": {},
     "output_type": "execute_result"
    }
   ],
   "source": [
    "word = [\"school\", \"game\", \"piano\", \"science\", \"hotel\", \"mountain\"]\n",
    "word\n"
   ]
  },
  {
   "cell_type": "code",
   "execution_count": 15,
   "metadata": {},
   "outputs": [],
   "source": [
    "new_list = [ i for i in word if len(i)>=6 ]"
   ]
  },
  {
   "cell_type": "code",
   "execution_count": 16,
   "metadata": {},
   "outputs": [
    {
     "data": {
      "text/plain": [
       "['school', 'science', 'mountain']"
      ]
     },
     "execution_count": 16,
     "metadata": {},
     "output_type": "execute_result"
    }
   ],
   "source": [
    "new_list"
   ]
  },
  {
   "cell_type": "code",
   "execution_count": 23,
   "metadata": {},
   "outputs": [
    {
     "data": {
      "text/plain": [
       "[6, 4, 5, 7, 5, 8]"
      ]
     },
     "execution_count": 23,
     "metadata": {},
     "output_type": "execute_result"
    }
   ],
   "source": [
    "num_list=[len(i) for i in word ]\n",
    "num_list\n"
   ]
  },
  {
   "cell_type": "code",
   "execution_count": 24,
   "metadata": {},
   "outputs": [],
   "source": [
    "a= [[10,20],[30,40],[50,60]]\n",
    "b= [[2,3],[4,5],[6,7]]"
   ]
  },
  {
   "cell_type": "code",
   "execution_count": 30,
   "metadata": {},
   "outputs": [
    {
     "name": "stdout",
     "output_type": "stream",
     "text": [
      "[[20, 60], [120, 200], [300, 420]]\n"
     ]
    }
   ],
   "source": [
    "c=[]\n",
    "for i in range(len(a)):\n",
    "    temp_c=[]\n",
    "    for j in range(len(a[i])):\n",
    "        temp=a[i][j]*b[i][j]\n",
    "        temp_c.append(temp)\n",
    "    c.append(temp_c)\n",
    "print(c)\n",
    "        \n",
    "        "
   ]
  },
  {
   "cell_type": "code",
   "execution_count": 38,
   "metadata": {},
   "outputs": [
    {
     "name": "stdout",
     "output_type": "stream",
     "text": [
      "[[1, 2], [3, 4], [5, 6]]\n"
     ]
    }
   ],
   "source": [
    "a=[]\n",
    "ele=0\n",
    "for i in range(3):\n",
    "    temp = []\n",
    "    for j in range(2):\n",
    "        ele+=1\n",
    "        temp.append(ele)\n",
    "    a.append(temp)\n",
    "print(a)"
   ]
  },
  {
   "cell_type": "code",
   "execution_count": 42,
   "metadata": {},
   "outputs": [
    {
     "name": "stdout",
     "output_type": "stream",
     "text": [
      "*****\n",
      "*****\n",
      "*****\n",
      "*****\n",
      "*****\n"
     ]
    }
   ],
   "source": [
    "stars_list=[]\n",
    "star=\"\"\n",
    "for i in range(5):\n",
    "    temp=[]\n",
    "    for j in range(5):\n",
    "        star=\"*\"\n",
    "        temp.append(star)\n",
    "    stars=\"\".join(temp)\n",
    "    print(stars)"
   ]
  },
  {
   "cell_type": "code",
   "execution_count": 50,
   "metadata": {},
   "outputs": [
    {
     "name": "stdout",
     "output_type": "stream",
     "text": [
      "*\n",
      "**\n",
      "***\n",
      "****\n",
      "*****\n"
     ]
    }
   ],
   "source": [
    "stars_list=[]\n",
    "star=\"\"\n",
    "for i in range(5):\n",
    "    temp=[]\n",
    "    for j in range(i+1):\n",
    "        star=\"*\"\n",
    "        temp.append(star)\n",
    "    stars=\"\".join(temp)\n",
    "    print(stars)\n"
   ]
  },
  {
   "cell_type": "code",
   "execution_count": 54,
   "metadata": {
    "scrolled": true
   },
   "outputs": [
    {
     "name": "stdout",
     "output_type": "stream",
     "text": [
      "*****\n",
      "****\n",
      "***\n",
      "**\n",
      "*\n"
     ]
    }
   ],
   "source": [
    "star=\"\"\n",
    "for i in range(5):\n",
    "    temp=[]\n",
    "    for j in range(5):\n",
    "        if j<i:\n",
    "            star:\" \"\n",
    "            continue\n",
    "        star=\"*\"\n",
    "        temp.append(star)\n",
    "    stars=\"\".join(temp)\n",
    "    print(stars)"
   ]
  },
  {
   "cell_type": "code",
   "execution_count": 65,
   "metadata": {},
   "outputs": [
    {
     "name": "stdout",
     "output_type": "stream",
     "text": [
      "*****\n",
      "****\n",
      "***\n",
      "**\n",
      "*\n"
     ]
    }
   ],
   "source": [
    "star=\"\"\n",
    "for i in range(5):\n",
    "    temp=[]\n",
    "    for j in range(5-i):\n",
    "        star=\"*\"\n",
    "        temp.append(star)\n",
    "    stars=\"\".join(temp)\n",
    "    print(stars)"
   ]
  },
  {
   "cell_type": "code",
   "execution_count": 66,
   "metadata": {},
   "outputs": [
    {
     "name": "stdout",
     "output_type": "stream",
     "text": [
      "*****\n",
      " ****\n",
      "  ***\n",
      "   **\n",
      "    *\n"
     ]
    }
   ],
   "source": [
    "star=\"\"\n",
    "for i in range(5):\n",
    "    temp=[]\n",
    "    for j in range(5):\n",
    "        if j<i:\n",
    "            star=\" \"\n",
    "            temp.append(star)\n",
    "        else:\n",
    "            star=\"*\"\n",
    "            temp.append(star)\n",
    "    stars=\"\".join(temp)\n",
    "    print(stars)"
   ]
  },
  {
   "cell_type": "code",
   "execution_count": 67,
   "metadata": {},
   "outputs": [
    {
     "name": "stdout",
     "output_type": "stream",
     "text": [
      "가위(1), 바위(2), 보(3) 을 입력해주세요 :3\n",
      "유저 : 보, 컴퓨터 : 가위\n",
      "가위(1), 바위(2), 보(3) 을 입력해주세요 :2\n",
      "유저 : 바위, 컴퓨터 : 가위\n",
      "가위(1), 바위(2), 보(3) 을 입력해주세요 :1\n",
      "유저 : 가위, 컴퓨터 : 보\n",
      "가위(1), 바위(2), 보(3) 을 입력해주세요 :3\n",
      "유저 : 보, 컴퓨터 : 바위\n",
      "가위(1), 바위(2), 보(3) 을 입력해주세요 :4\n",
      "게임종료 (전체:4 ,승리:3)\n"
     ]
    }
   ],
   "source": [
    "import random\n",
    "random.randint(1, 3)\n",
    "game_dict = {1:\"가위\", 2:\"바위\", 3:\"보\"}\n",
    "total = 0\n",
    "win = 0\n",
    "user = 1\n",
    "computer = -1\n",
    "\n",
    "while user in [1, 2, 3]:\n",
    "    user = int(input(\"가위(1), 바위(2), 보(3) 을 입력해주세요 :\"))\n",
    "    computer = random.randint(1, 3)\n",
    "    \n",
    "    if user not in [1, 2, 3]:\n",
    "        break\n",
    "    \n",
    "    total += 1\n",
    "    print(f\"유저 : {game_dict[user]}, 컴퓨터 : {game_dict[computer]}\")\n",
    "    \n",
    "    if (user == 1 and computer == 3) or (user == 2 and computer == 1) or (user == 3 and computer == 2):\n",
    "        win += 1\n",
    "        \n",
    "        \n",
    "\n",
    "print(f\"게임종료 (전체:{total} ,승리:{win})\")"
   ]
  },
  {
   "cell_type": "code",
   "execution_count": 69,
   "metadata": {},
   "outputs": [],
   "source": [
    "import pickle\n",
    "with open(\"game.pkl\", \"wb\") as file:\n",
    "    pickle.dump(total, file)\n",
    "    pickle.dump(win, file)"
   ]
  },
  {
   "cell_type": "code",
   "execution_count": 70,
   "metadata": {},
   "outputs": [],
   "source": [
    "with open('game.pkl', 'rb') as file:\n",
    "    total = pickle.load(file)\n",
    "    win = pickle.load(file)"
   ]
  },
  {
   "cell_type": "code",
   "execution_count": 71,
   "metadata": {},
   "outputs": [
    {
     "name": "stdout",
     "output_type": "stream",
     "text": [
      "가위(1), 바위(2), 보(3) 을 입력해주세요 :3\n",
      "유저 : 보, 컴퓨터 : 보\n",
      "가위(1), 바위(2), 보(3) 을 입력해주세요 :2\n",
      "유저 : 바위, 컴퓨터 : 가위\n",
      "가위(1), 바위(2), 보(3) 을 입력해주세요 :1\n",
      "유저 : 가위, 컴퓨터 : 보\n",
      "가위(1), 바위(2), 보(3) 을 입력해주세요 :4\n",
      "게임종료 (전체:7 ,승리:5)\n"
     ]
    }
   ],
   "source": [
    "user = 1\n",
    "computer = -1\n",
    "\n",
    "while user in [1, 2, 3]:\n",
    "    user = int(input(\"가위(1), 바위(2), 보(3) 을 입력해주세요 :\"))\n",
    "    computer = random.randint(1, 3)\n",
    "    \n",
    "    if user not in [1, 2, 3]:\n",
    "        break\n",
    "    \n",
    "    total += 1\n",
    "    print(f\"유저 : {game_dict[user]}, 컴퓨터 : {game_dict[computer]}\")\n",
    "    \n",
    "    if (user == 1 and computer == 3) or (user == 2 and computer == 1) or (user == 3 and computer == 2):\n",
    "        win += 1\n",
    "        \n",
    "        \n",
    "\n",
    "print(f\"게임종료 (전체:{total} ,승리:{win})\")"
   ]
  },
  {
   "cell_type": "code",
   "execution_count": null,
   "metadata": {},
   "outputs": [],
   "source": []
  },
  {
   "cell_type": "code",
   "execution_count": null,
   "metadata": {},
   "outputs": [],
   "source": []
  }
 ],
 "metadata": {
  "kernelspec": {
   "display_name": "Python 3",
   "language": "python",
   "name": "python3"
  },
  "language_info": {
   "codemirror_mode": {
    "name": "ipython",
    "version": 3
   },
   "file_extension": ".py",
   "mimetype": "text/x-python",
   "name": "python",
   "nbconvert_exporter": "python",
   "pygments_lexer": "ipython3",
   "version": "3.8.5"
  }
 },
 "nbformat": 4,
 "nbformat_minor": 4
}
