{
 "cells": [
  {
   "cell_type": "code",
   "execution_count": 30,
   "metadata": {},
   "outputs": [],
   "source": [
    "class Car:\n",
    "    car__count=0\n",
    "    def __init__(self,name,cc,birth):\n",
    "        self.__name=name\n",
    "        self.__cc=cc\n",
    "        self.__birth=birth\n",
    "        Car.car__count+=1\n",
    "    def find(self):\n",
    "        print(self.__name)\n",
    "    def correction(self):\n",
    "        name=input(\"이름:\")\n",
    "        self.__name=name\n",
    "    def size(self):\n",
    "        if self.__cc <1000:\n",
    "            print(\"소형\")\n",
    "        elif 1000<=self.__cc<=2000:\n",
    "            print(\"중형\")\n",
    "        elif 2000<self.__cc:\n",
    "            print(\"대형\")\n",
    "    @classmethod\n",
    "    def carCount(cls):\n",
    "        print(\"총 자동차는:\",Car.car__count)\n",
    "        \n",
    "            \n",
    "        \n",
    "        \n",
    "        "
   ]
  },
  {
   "cell_type": "code",
   "execution_count": 31,
   "metadata": {},
   "outputs": [],
   "source": [
    "mycar = Car(\"avante\",1500,\"2020\")"
   ]
  },
  {
   "cell_type": "code",
   "execution_count": 32,
   "metadata": {},
   "outputs": [
    {
     "name": "stdout",
     "output_type": "stream",
     "text": [
      "총 자동차는: 1\n"
     ]
    }
   ],
   "source": [
    "mycar.carCount()"
   ]
  },
  {
   "cell_type": "code",
   "execution_count": 33,
   "metadata": {},
   "outputs": [
    {
     "name": "stdout",
     "output_type": "stream",
     "text": [
      "avante\n"
     ]
    }
   ],
   "source": [
    "mycar.find()"
   ]
  },
  {
   "cell_type": "code",
   "execution_count": 34,
   "metadata": {},
   "outputs": [
    {
     "name": "stdout",
     "output_type": "stream",
     "text": [
      "이름:소나타\n"
     ]
    }
   ],
   "source": [
    "mycar.correction()"
   ]
  },
  {
   "cell_type": "code",
   "execution_count": 35,
   "metadata": {},
   "outputs": [
    {
     "name": "stdout",
     "output_type": "stream",
     "text": [
      "소나타\n"
     ]
    }
   ],
   "source": [
    "mycar.find()"
   ]
  },
  {
   "cell_type": "code",
   "execution_count": 36,
   "metadata": {},
   "outputs": [
    {
     "name": "stdout",
     "output_type": "stream",
     "text": [
      "중형\n"
     ]
    }
   ],
   "source": [
    "mycar.size()"
   ]
  },
  {
   "cell_type": "code",
   "execution_count": 37,
   "metadata": {},
   "outputs": [],
   "source": [
    "mycar2=Car(\"그랜져\",3000,\"2020\")"
   ]
  },
  {
   "cell_type": "code",
   "execution_count": 38,
   "metadata": {},
   "outputs": [
    {
     "name": "stdout",
     "output_type": "stream",
     "text": [
      "총 자동차는: 2\n"
     ]
    }
   ],
   "source": [
    "mycar.carCount()"
   ]
  },
  {
   "cell_type": "code",
   "execution_count": 39,
   "metadata": {},
   "outputs": [],
   "source": [
    "names= \"\"\"강다영\n",
    "강동아\n",
    "권윤택\n",
    "김광희\n",
    "김기범\n",
    "김성희\n",
    "김수진\n",
    "김태익\n",
    "남윤호\n",
    "박수진\n",
    "박창서\n",
    "선은빈\n",
    "송은이\n",
    "우지원\n",
    "윤현수\n",
    "윤호준\n",
    "이송재\n",
    "이한비\n",
    "조계철\n",
    "최하은\n",
    "황호영\n",
    "조성혜\"\"\""
   ]
  },
  {
   "cell_type": "code",
   "execution_count": 41,
   "metadata": {},
   "outputs": [
    {
     "name": "stdout",
     "output_type": "stream",
     "text": [
      "김기범 서울 aa@aa.com\n"
     ]
    }
   ],
   "source": [
    "import pickle\n",
    "\n",
    "try:\n",
    "    with open(\"data3.p\",\"rb\") as file:\n",
    "        name = pickle.load(file)\n",
    "        address = pickle.load(file)\n",
    "        email = pickle.load(file)\n",
    "        print(name, address, email)\n",
    "except:\n",
    "    name=input(\"이름:\")\n",
    "    address=input(\"주소:\")\n",
    "    email=input(\"이메일:\")\n",
    "    with open(\"data3.p\",\"wb\") as file:\n",
    "        pickle.dump(name, file)\n",
    "        pickle.dump(address, file)\n",
    "        pickle.dump(email, file)\n",
    "        \n",
    "        \n"
   ]
  },
  {
   "cell_type": "code",
   "execution_count": 71,
   "metadata": {},
   "outputs": [
    {
     "name": "stdout",
     "output_type": "stream",
     "text": [
      "2*1=2\n",
      "2*2=4\n",
      "2*3=6\n",
      "2*4=8\n",
      "2*5=10\n",
      "2*6=12\n",
      "2*7=14\n",
      "2*8=16\n",
      "2*9=18\n"
     ]
    }
   ],
   "source": [
    "class NotNumber(Exception):\n",
    "    def __init__(self):\n",
    "        super().__init__(\"잘못된 숫자입니다.\")\n",
    "def gugudan(num):\n",
    "\n",
    "        if 1<num<10:\n",
    "            for i in range(1,10):\n",
    "                print(f\"{num}*{i}={num*i}\")\n",
    "        else:\n",
    "            raise NotNumber\n",
    "    \n",
    "            \n",
    "try:\n",
    "    gugudan(2)\n",
    "except Exception as e:\n",
    "           print(\"NotNumber:\",e)    "
   ]
  },
  {
   "cell_type": "code",
   "execution_count": 72,
   "metadata": {},
   "outputs": [
    {
     "name": "stdout",
     "output_type": "stream",
     "text": [
      "NotNumber: 잘못된 숫자입니다.\n"
     ]
    }
   ],
   "source": [
    "try:\n",
    "    gugudan(1)\n",
    "except Exception as e:\n",
    "           print(\"NotNumber:\",e) "
   ]
  },
  {
   "cell_type": "code",
   "execution_count": 73,
   "metadata": {},
   "outputs": [
    {
     "name": "stdout",
     "output_type": "stream",
     "text": [
      "NotNumber: 잘못된 숫자입니다.\n"
     ]
    }
   ],
   "source": [
    "try:\n",
    "    gugudan(10)\n",
    "except Exception as e:\n",
    "           print(\"NotNumber:\",e) "
   ]
  },
  {
   "cell_type": "code",
   "execution_count": 57,
   "metadata": {},
   "outputs": [
    {
     "name": "stdout",
     "output_type": "stream",
     "text": [
      "숫자를 0으로 나눌수 없음 division by zero\n"
     ]
    }
   ],
   "source": [
    "x = [1, 2, 3]\n",
    "try:\n",
    "    print(10/0)\n",
    "    x[5]\n",
    "except ZeroDivisionError as e:\n",
    "    print(\"숫자를 0으로 나눌수 없음\", e)\n",
    "except IndexError as e:\n",
    "    print(\"잘못된 인덱스\", e)\n"
   ]
  },
  {
   "cell_type": "code",
   "execution_count": 1,
   "metadata": {},
   "outputs": [
    {
     "name": "stdout",
     "output_type": "stream",
     "text": [
      "calc\n"
     ]
    }
   ],
   "source": [
    "import pkcalc.calc as calc\n",
    "\n",
    "print(calc.name)"
   ]
  },
  {
   "cell_type": "code",
   "execution_count": 3,
   "metadata": {},
   "outputs": [
    {
     "name": "stdout",
     "output_type": "stream",
     "text": [
      "-1\n"
     ]
    }
   ],
   "source": [
    "print(calc.sub(5,6))"
   ]
  },
  {
   "cell_type": "code",
   "execution_count": 4,
   "metadata": {},
   "outputs": [
    {
     "name": "stdout",
     "output_type": "stream",
     "text": [
      "['C:\\\\Users\\\\721\\\\kdigital', 'C:\\\\Users\\\\721\\\\anaconda3\\\\python38.zip', 'C:\\\\Users\\\\721\\\\anaconda3\\\\DLLs', 'C:\\\\Users\\\\721\\\\anaconda3\\\\lib', 'C:\\\\Users\\\\721\\\\anaconda3', '', 'C:\\\\Users\\\\721\\\\anaconda3\\\\lib\\\\site-packages', 'C:\\\\Users\\\\721\\\\anaconda3\\\\lib\\\\site-packages\\\\win32', 'C:\\\\Users\\\\721\\\\anaconda3\\\\lib\\\\site-packages\\\\win32\\\\lib', 'C:\\\\Users\\\\721\\\\anaconda3\\\\lib\\\\site-packages\\\\Pythonwin', 'C:\\\\Users\\\\721\\\\anaconda3\\\\lib\\\\site-packages\\\\IPython\\\\extensions', 'C:\\\\Users\\\\721\\\\.ipython']\n"
     ]
    }
   ],
   "source": [
    "import sys\n",
    "print(sys.path)"
   ]
  },
  {
   "cell_type": "code",
   "execution_count": 1,
   "metadata": {},
   "outputs": [
    {
     "name": "stdout",
     "output_type": "stream",
     "text": [
      "calc package\n"
     ]
    }
   ],
   "source": [
    "import pkcalc"
   ]
  },
  {
   "cell_type": "code",
   "execution_count": 4,
   "metadata": {},
   "outputs": [
    {
     "name": "stdout",
     "output_type": "stream",
     "text": [
      "11\n"
     ]
    }
   ],
   "source": [
    "print(add(5,6))"
   ]
  },
  {
   "cell_type": "code",
   "execution_count": 5,
   "metadata": {},
   "outputs": [
    {
     "name": "stdout",
     "output_type": "stream",
     "text": [
      "11\n"
     ]
    }
   ],
   "source": [
    "from pkcalc.calc import add, sub\n",
    "print(add(5,6))"
   ]
  },
  {
   "cell_type": "code",
   "execution_count": 8,
   "metadata": {},
   "outputs": [],
   "source": [
    "import numpy as np"
   ]
  },
  {
   "cell_type": "code",
   "execution_count": 9,
   "metadata": {},
   "outputs": [],
   "source": [
    "import pandas as pd"
   ]
  },
  {
   "cell_type": "code",
   "execution_count": 15,
   "metadata": {},
   "outputs": [
    {
     "data": {
      "text/plain": [
       "2"
      ]
     },
     "execution_count": 15,
     "metadata": {},
     "output_type": "execute_result"
    }
   ],
   "source": [
    "matrix_1 = [[1,2],[3,4]]\n",
    "matrix_2 = [[5,6],[7,8]]\n",
    "#matrix원소의 합\n",
    "matrix_1[0][1]"
   ]
  },
  {
   "cell_type": "code",
   "execution_count": 17,
   "metadata": {},
   "outputs": [
    {
     "name": "stdout",
     "output_type": "stream",
     "text": [
      "[[6, 8], [10, 12]]\n"
     ]
    }
   ],
   "source": [
    "new_matrix=[]\n",
    "for i in range(len(matrix_1)):\n",
    "    temp=[]\n",
    "    a=matrix_1[i][0]+matrix_2[i][0]\n",
    "    b=matrix_1[i][1]+matrix_2[i][1]\n",
    "    temp.append(a)\n",
    "    temp.append(b)\n",
    "    new_matrix.append(temp)\n",
    "print(new_matrix)\n",
    "    "
   ]
  },
  {
   "cell_type": "code",
   "execution_count": 18,
   "metadata": {},
   "outputs": [],
   "source": [
    "for i in range(len(matrix_1)):\n",
    "    matrix_1[i][0]+=1\n",
    "    matrix_1[i][1]+=1"
   ]
  },
  {
   "cell_type": "code",
   "execution_count": 19,
   "metadata": {},
   "outputs": [
    {
     "data": {
      "text/plain": [
       "[[2, 3], [4, 5]]"
      ]
     },
     "execution_count": 19,
     "metadata": {},
     "output_type": "execute_result"
    }
   ],
   "source": [
    "matrix_1"
   ]
  },
  {
   "cell_type": "code",
   "execution_count": 3,
   "metadata": {},
   "outputs": [
    {
     "name": "stdout",
     "output_type": "stream",
     "text": [
      "[[6, 8], [10, 12]]\n"
     ]
    }
   ],
   "source": [
    "matrix_1 = [[1,2],[3,4]]\n",
    "matrix_2 = [[5,6],[7,8]]\n",
    "new_matrix=[]\n",
    "for i in range(len(matrix_1)):\n",
    "    temp=[]\n",
    "    for j in range(len(matrix_1[i])):\n",
    "        temp.append(matrix_1[i][j]+matrix_2[i][j])\n",
    "    new_matrix.append(temp)\n",
    "print(new_matrix)\n",
    "        "
   ]
  },
  {
   "cell_type": "code",
   "execution_count": 2,
   "metadata": {},
   "outputs": [
    {
     "name": "stdout",
     "output_type": "stream",
     "text": [
      "[[2, 3], [4, 5]]\n"
     ]
    }
   ],
   "source": [
    "matrix_1 = [[1,2],[3,4]]\n",
    "for i in range(len(matrix_1)):\n",
    "    for j in range(len(matrix_1[i])):\n",
    "        matrix_1[i][j]+=1\n",
    "print(matrix_1)"
   ]
  },
  {
   "cell_type": "code",
   "execution_count": 6,
   "metadata": {},
   "outputs": [
    {
     "name": "stdout",
     "output_type": "stream",
     "text": [
      "[[6, 8], [10, 12]]\n"
     ]
    }
   ],
   "source": [
    "matrix_1 = [[1,2],[3,4]]\n",
    "matrix_2 = [[5,6],[7,8]]\n",
    "def sum_mat(mat_1,mat_2):\n",
    "    new_matrix=[]\n",
    "    for i in range(len(mat_1)):\n",
    "        temp=[]\n",
    "        for j in range(len(mat_1[i])):\n",
    "            temp.append(matrix_1[i][j]+matrix_2[i][j])\n",
    "        new_matrix.append(temp)\n",
    "    return new_matrix\n",
    "new_matrix = sum_mat(matrix_1,matrix_2)\n",
    "print(new_matrix)"
   ]
  },
  {
   "cell_type": "code",
   "execution_count": 10,
   "metadata": {},
   "outputs": [
    {
     "name": "stdout",
     "output_type": "stream",
     "text": [
      "[[ 6  8]\n",
      " [10 12]]\n"
     ]
    }
   ],
   "source": [
    "mat_sum=np.array(matrix_1) + np.array(matrix_2)\n",
    "print(mat_sum)"
   ]
  },
  {
   "cell_type": "code",
   "execution_count": 11,
   "metadata": {},
   "outputs": [
    {
     "data": {
      "text/plain": [
       "array([[2, 3],\n",
       "       [4, 5]])"
      ]
     },
     "execution_count": 11,
     "metadata": {},
     "output_type": "execute_result"
    }
   ],
   "source": [
    "mat_one_plus = np.array(matrix_1) + 1\n",
    "mat_one_plus"
   ]
  },
  {
   "cell_type": "code",
   "execution_count": 17,
   "metadata": {},
   "outputs": [],
   "source": [
    "import time\n",
    "size= 10000000\n",
    "\n",
    "x = list(range(size))\n",
    "y = list(range(size))\n",
    "\n"
   ]
  },
  {
   "cell_type": "code",
   "execution_count": 18,
   "metadata": {},
   "outputs": [
    {
     "name": "stdout",
     "output_type": "stream",
     "text": [
      "time.struct_time(tm_year=2020, tm_mon=12, tm_mday=15, tm_hour=17, tm_min=24, tm_sec=27, tm_wday=1, tm_yday=350, tm_isdst=0)\n"
     ]
    }
   ],
   "source": [
    "print(time.localtime())"
   ]
  },
  {
   "cell_type": "code",
   "execution_count": 20,
   "metadata": {},
   "outputs": [
    {
     "name": "stdout",
     "output_type": "stream",
     "text": [
      "리스트 걸린시간 :2.000378370285034\n"
     ]
    }
   ],
   "source": [
    "start_time=time.time()\n",
    "z= [ x[i] + y [i] for i in range(size)]\n",
    "print(f\"리스트 걸린시간 :{time.time()- start_time}\")"
   ]
  },
  {
   "cell_type": "code",
   "execution_count": 25,
   "metadata": {},
   "outputs": [],
   "source": [
    "x = np.arange(size)\n",
    "y = np.arange(size)"
   ]
  },
  {
   "cell_type": "code",
   "execution_count": 28,
   "metadata": {},
   "outputs": [
    {
     "name": "stdout",
     "output_type": "stream",
     "text": [
      "리스트 걸린시간 :0.03223919868469238\n"
     ]
    }
   ],
   "source": [
    "s_time=time.time()\n",
    "z= x + y\n",
    "print(f\"리스트 걸린시간 :{time.time()- s_time}\")"
   ]
  },
  {
   "cell_type": "code",
   "execution_count": 37,
   "metadata": {
    "scrolled": false
   },
   "outputs": [
    {
     "name": "stdout",
     "output_type": "stream",
     "text": [
      "64\n",
      "<class 'numpy.uint32'>\n",
      "uint32\n"
     ]
    }
   ],
   "source": [
    "x= np.uint(64)\n",
    "print(x)\n",
    "print(type(x))\n",
    "print(x.dtype)"
   ]
  },
  {
   "cell_type": "code",
   "execution_count": 35,
   "metadata": {},
   "outputs": [
    {
     "name": "stdout",
     "output_type": "stream",
     "text": [
      "[1 2 3 4]\n",
      "<class 'numpy.ndarray'>\n"
     ]
    }
   ],
   "source": [
    "x= np.array([1,2,3,4])\n",
    "print(x)\n",
    "print(type(x))\n"
   ]
  },
  {
   "cell_type": "code",
   "execution_count": 38,
   "metadata": {},
   "outputs": [
    {
     "name": "stdout",
     "output_type": "stream",
     "text": [
      "[1. 2. 3. 4.]\n",
      "<class 'numpy.ndarray'>\n",
      "float32\n"
     ]
    }
   ],
   "source": [
    "x = np.float32([1,2,3,4])\n",
    "print(x)\n",
    "print(type(x))\n",
    "print(x.dtype)"
   ]
  },
  {
   "cell_type": "code",
   "execution_count": 39,
   "metadata": {},
   "outputs": [
    {
     "name": "stdout",
     "output_type": "stream",
     "text": [
      "[1. 2. 3. 4.]\n",
      "<class 'numpy.ndarray'>\n",
      "float32\n"
     ]
    }
   ],
   "source": [
    "x = np.array([1,2,3,4], dtype = np.float32)\n",
    "print(x)\n",
    "print(type(x))\n",
    "print(x.dtype)"
   ]
  },
  {
   "cell_type": "code",
   "execution_count": 41,
   "metadata": {},
   "outputs": [
    {
     "name": "stdout",
     "output_type": "stream",
     "text": [
      "int32\n"
     ]
    },
    {
     "data": {
      "text/plain": [
       "True"
      ]
     },
     "execution_count": 41,
     "metadata": {},
     "output_type": "execute_result"
    }
   ],
   "source": [
    "x=np.int32(x)\n",
    "print(x.dtype)\n",
    "np.issubdtype(x.dtype,np.int32)"
   ]
  },
  {
   "cell_type": "code",
   "execution_count": 42,
   "metadata": {},
   "outputs": [
    {
     "name": "stdout",
     "output_type": "stream",
     "text": [
      "[0 1 2 3 4 5 6 7 8]\n"
     ]
    }
   ],
   "source": [
    "x=np.arange(9)\n",
    "print(x)"
   ]
  },
  {
   "cell_type": "code",
   "execution_count": 43,
   "metadata": {},
   "outputs": [],
   "source": [
    "x= x.reshape(3,3)"
   ]
  },
  {
   "cell_type": "code",
   "execution_count": 44,
   "metadata": {},
   "outputs": [
    {
     "name": "stdout",
     "output_type": "stream",
     "text": [
      "[[0 1 2]\n",
      " [3 4 5]\n",
      " [6 7 8]]\n"
     ]
    }
   ],
   "source": [
    "print(x)"
   ]
  },
  {
   "cell_type": "code",
   "execution_count": 45,
   "metadata": {},
   "outputs": [
    {
     "name": "stdout",
     "output_type": "stream",
     "text": [
      "[[[ 0  1  2  3]\n",
      "  [ 4  5  6  7]\n",
      "  [ 8  9 10 11]]\n",
      "\n",
      " [[12 13 14 15]\n",
      "  [16 17 18 19]\n",
      "  [20 21 22 23]]]\n"
     ]
    }
   ],
   "source": [
    "x = np.arange(24).reshape(2,3,4)\n",
    "print(x)"
   ]
  },
  {
   "cell_type": "code",
   "execution_count": 47,
   "metadata": {},
   "outputs": [],
   "source": [
    "x= np.array([[1,2],[3,4],[5,6]])"
   ]
  },
  {
   "cell_type": "code",
   "execution_count": 48,
   "metadata": {},
   "outputs": [
    {
     "name": "stdout",
     "output_type": "stream",
     "text": [
      "[[1 2]\n",
      " [3 4]\n",
      " [5 6]]\n"
     ]
    }
   ],
   "source": [
    "print(x)"
   ]
  },
  {
   "cell_type": "code",
   "execution_count": 49,
   "metadata": {},
   "outputs": [
    {
     "name": "stdout",
     "output_type": "stream",
     "text": [
      "[[1 2 3]\n",
      " [4 5 6]]\n"
     ]
    }
   ],
   "source": [
    "print(x.reshape(2,3))\n"
   ]
  },
  {
   "cell_type": "code",
   "execution_count": 50,
   "metadata": {},
   "outputs": [
    {
     "name": "stdout",
     "output_type": "stream",
     "text": [
      "[[0 1 2]\n",
      " [3 4 5]\n",
      " [6 7 8]]\n"
     ]
    }
   ],
   "source": [
    "x= np.arange(9).reshape(3,-1)\n",
    "print(x)"
   ]
  },
  {
   "cell_type": "code",
   "execution_count": null,
   "metadata": {},
   "outputs": [],
   "source": []
  }
 ],
 "metadata": {
  "kernelspec": {
   "display_name": "Python 3",
   "language": "python",
   "name": "python3"
  },
  "language_info": {
   "codemirror_mode": {
    "name": "ipython",
    "version": 3
   },
   "file_extension": ".py",
   "mimetype": "text/x-python",
   "name": "python",
   "nbconvert_exporter": "python",
   "pygments_lexer": "ipython3",
   "version": "3.8.5"
  }
 },
 "nbformat": 4,
 "nbformat_minor": 4
}
